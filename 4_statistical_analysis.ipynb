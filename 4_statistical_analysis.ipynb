{
 "cells": [
  {
   "cell_type": "code",
   "execution_count": 1,
   "metadata": {},
   "outputs": [],
   "source": [
    "import pandas as pd\n",
    "import matplotlib.pyplot as plt\n",
    "import seaborn as sns\n",
    "import numpy as np\n",
    "from scipy import stats\n",
    "\n",
    "import my_zodiac_library as mzl"
   ]
  },
  {
   "cell_type": "markdown",
   "metadata": {},
   "source": [
    "Загружаем данные"
   ]
  },
  {
   "cell_type": "code",
   "execution_count": 2,
   "metadata": {},
   "outputs": [
    {
     "name": "stdout",
     "output_type": "stream",
     "text": [
      "OK\n"
     ]
    }
   ],
   "source": [
    "name = 'data/total_cart_table(66)'\n",
    "df = pd.read_csv(name, sep='\\t', index_col='rank')\n",
    "df = mzl.purification_df(mzl.preprocessing_df(df))\n",
    "mzl.check_df(df)"
   ]
  },
  {
   "cell_type": "markdown",
   "metadata": {},
   "source": [
    "### Краткий обзор астрологического лора\n",
    "\n",
    "По традиции считается, что:\n",
    "1. **Львы** самые артистичные\n",
    "2. **Овны** тоже очень артистичные и почти как Львы, так как в этом зодиаке экзальтирует Солнце;\n",
    "3. **Стрельцы** очень артистичные, и социальные;\n",
    "3. **Скорпионы** это как Львы, только \"плохиши\", обладающие каким-то там магнетизмом - то есть они тоже очень артистичные;\n",
    "4. **Козероги** очень целеустремленные;\n",
    "5. **Девы** наиболее мелочные и педантичные;\n",
    "6. **Раки** самые обидчивые, крикливые, истеричные и эмоциональные;\n",
    "7. **Тельцы**, **Близнецы**, **Водолеи**, **Весы**, **Рыбы** - среднячки в сфере киноискусства.\n",
    "\n",
    "В группу стихии огня входят: **Львы**, **Овны** и **Скорпионы** - и это самая артистичная стихия."
   ]
  },
  {
   "cell_type": "markdown",
   "metadata": {},
   "source": [
    "### Несколько замечаний относящихся к статистике\n",
    "\n",
    "1. Я буду проверять гипотезы, обнаруженые мной с помощью разведочного анализа данных в предыдущем блокоте.\n",
    "2. Я буду использовать уровень значимости $\\alpha = 0.05$.\n",
    "3. Все гипотезы я буду проверять критерием Манна-Уитни.\n",
    "4. Все предложения и возражения *крайне* приветсвуются; например, можно писать на anonymous469994@rambler.ru."
   ]
  },
  {
   "cell_type": "markdown",
   "metadata": {},
   "source": [
    "# 0. Пример проверки гипотезы"
   ]
  },
  {
   "cell_type": "markdown",
   "metadata": {},
   "source": [
    "Проверим какую-нибудь заведомо ложную гипотезу чтобы \"пристреляться\". Чтобы убедиться, что наши инструменты работают как надо."
   ]
  },
  {
   "cell_type": "markdown",
   "metadata": {},
   "source": [
    "H0: совокупность последних цифр в числе года рождения звезды распределены равномерно.\n",
    "\n",
    "Н1: распределение последних цифр в числе года рождения отличается от равномерного."
   ]
  },
  {
   "cell_type": "code",
   "execution_count": 3,
   "metadata": {},
   "outputs": [],
   "source": [
    "experimental_group = df.year.map(lambda x: x%10)\n",
    "exp_size = len(experimental_group)\n",
    "control_group = np.random.randint(0,10, size=exp_size)"
   ]
  },
  {
   "cell_type": "markdown",
   "metadata": {},
   "source": [
    "Собрали данные. Теперь запускаем критерий."
   ]
  },
  {
   "cell_type": "code",
   "execution_count": 4,
   "metadata": {},
   "outputs": [
    {
     "name": "stdout",
     "output_type": "stream",
     "text": [
      "H0 not rejected.\n"
     ]
    }
   ],
   "source": [
    "st, p = stats.mannwhitneyu(experimental_group, control_group)\n",
    "\n",
    "alpha = 0.05\n",
    "if p > alpha:\n",
    "    print('H0 not rejected.')\n",
    "else:\n",
    "    print('H0 rejected;', 'p-value=%.3f'%p)\n",
    "    pd.DataFrame(experimental_group).plot.hist(bins=10)"
   ]
  },
  {
   "cell_type": "markdown",
   "metadata": {},
   "source": [
    "Нулевая гипотеза не отвергается. Последние цифры в числе года рождения звезды действительно распределены равномерно. Очень неожиданно."
   ]
  },
  {
   "cell_type": "markdown",
   "metadata": {},
   "source": [
    "## I. Распределение зодиаков в сфере киноискусства"
   ]
  },
  {
   "cell_type": "markdown",
   "metadata": {},
   "source": [
    "### Гипотеза 1. В киноискусстве не равномерное распределение зодиаков.\n",
    "\n",
    "H0: зодиаки в киноискусстве распределены равномерно.\n",
    "\n",
    "Н1: распределение зодиаков в киноискусстве отличается от равномерного."
   ]
  },
  {
   "cell_type": "code",
   "execution_count": 5,
   "metadata": {},
   "outputs": [],
   "source": [
    "experimental_group = np.array(pd.Series(map(mzl.zod_code.get, df.zodiac)).astype(int))\n",
    "control_group = np.random.randint(1,13, size=len(experimental_group))"
   ]
  },
  {
   "cell_type": "markdown",
   "metadata": {},
   "source": [
    "Собрали данные в двух группах: control_group - контрольная группа с сгенерированным равномерном распределением натуральных чисел из промежутка $[1,12]$; experimental_group - проверяемые данные, зодиаки звезд, закодированные числами."
   ]
  },
  {
   "cell_type": "markdown",
   "metadata": {},
   "source": [
    "Для убедительности посмотрим на распределение этих совокупностей."
   ]
  },
  {
   "cell_type": "code",
   "execution_count": 6,
   "metadata": {},
   "outputs": [
    {
     "data": {
      "text/plain": [
       "<matplotlib.axes._subplots.AxesSubplot at 0x7f1fcdbfd908>"
      ]
     },
     "execution_count": 6,
     "metadata": {},
     "output_type": "execute_result"
    },
    {
     "data": {
      "image/png": "[encoded data removed]",
      "text/plain": [
       "<Figure size 432x288 with 1 Axes>"
      ]
     },
     "metadata": {
      "needs_background": "light"
     },
     "output_type": "display_data"
    }
   ],
   "source": [
    "# контрольная группа\n",
    "pd.DataFrame(control_group).plot.hist(bins=12)"
   ]
  },
  {
   "cell_type": "code",
   "execution_count": 7,
   "metadata": {},
   "outputs": [
    {
     "data": {
      "text/plain": [
       "<matplotlib.axes._subplots.AxesSubplot at 0x7f1fcc8760f0>"
      ]
     },
     "execution_count": 7,
     "metadata": {},
     "output_type": "execute_result"
    },
    {
     "data": {
      "image/png": "[encoded data removed]",
      "text/plain": [
       "<Figure size 432x288 with 1 Axes>"
      ]
     },
     "metadata": {
      "needs_background": "light"
     },
     "output_type": "display_data"
    }
   ],
   "source": [
    "# эксперементальные данные\n",
    "pd.DataFrame(experimental_group).plot.hist(bins=12)"
   ]
  },
  {
   "cell_type": "markdown",
   "metadata": {},
   "source": [
    "Запускаем тест..."
   ]
  },
  {
   "cell_type": "code",
   "execution_count": 8,
   "metadata": {},
   "outputs": [
    {
     "name": "stdout",
     "output_type": "stream",
     "text": [
      "H0 rejected; p-value=0.000\n"
     ]
    }
   ],
   "source": [
    "st, p = stats.mannwhitneyu(experimental_group, control_group)\n",
    "\n",
    "alpha = 0.05\n",
    "if p > alpha:\n",
    "    print('H0 not rejected.')\n",
    "else:\n",
    "    print('H0 rejected;', 'p-value=%.3f'%p)"
   ]
  },
  {
   "cell_type": "markdown",
   "metadata": {},
   "source": [
    "Мы поличили такое значение p-value, что можем отвергнуть нулевую гипотезу и принять альернативную гипотезу. Это значит, что распределение зодиаков в киноискусстве отличается от равномерного."
   ]
  },
  {
   "cell_type": "markdown",
   "metadata": {},
   "source": [
    "### Гипотеза 2. В киноискусстве не равномерное распределение элементов.\n",
    "\n",
    "H0: элементы в киноискусстве распределены равномерно.\n",
    "\n",
    "Н1: распределение элементов в киноискусстве отличается от равномерного."
   ]
  },
  {
   "cell_type": "code",
   "execution_count": 9,
   "metadata": {},
   "outputs": [],
   "source": [
    "elem_color = dict({\n",
    "    'fire': 0,\n",
    "    'air': 1,\n",
    "    'water': 2,\n",
    "    'earth': 3,\n",
    "})\n",
    "\n",
    "experimental_group = df.element.map(lambda x: elem_color[x])\n",
    "control_group = np.random.randint(len(np.unique(experimental_group)), size=len(experimental_group))"
   ]
  },
  {
   "cell_type": "code",
   "execution_count": 10,
   "metadata": {},
   "outputs": [
    {
     "name": "stdout",
     "output_type": "stream",
     "text": [
      "H0 rejected; p-value=0.022\n"
     ]
    }
   ],
   "source": [
    "st, p = stats.mannwhitneyu(experimental_group, control_group)\n",
    "\n",
    "alpha = 0.05\n",
    "if p > alpha:\n",
    "    print('H0 not rejected.')\n",
    "else:\n",
    "    print('H0 rejected;', 'p-value=%.3f'%p)"
   ]
  },
  {
   "cell_type": "markdown",
   "metadata": {},
   "source": [
    "Можно и принять нулевую гипотезу."
   ]
  },
  {
   "cell_type": "markdown",
   "metadata": {},
   "source": [
    "# II. Популярность "
   ]
  },
  {
   "cell_type": "markdown",
   "metadata": {},
   "source": [
    "### Гипотеза 3. Скорпионы чаще всех других зодиаков получают сердечки под профилем в кинопоиске.\n",
    "\n",
    "H0: распределение сердечек под Скорпионами не отличается от совокупного распределения всех остальных зодиаков.\n",
    "\n",
    "Н1: распределение сердечек под Скорпионами отличается от распределения сердечек совокупности всех остальных зодиаков."
   ]
  },
  {
   "cell_type": "code",
   "execution_count": 11,
   "metadata": {},
   "outputs": [],
   "source": [
    "experimental_group = df[df.zodiac == 'Scorpio'].favors\n",
    "control_group = df[df.zodiac != 'Scorpio'].favors"
   ]
  },
  {
   "cell_type": "code",
   "execution_count": 12,
   "metadata": {},
   "outputs": [
    {
     "name": "stdout",
     "output_type": "stream",
     "text": [
      "H0 not rejected.\n"
     ]
    }
   ],
   "source": [
    "st, p = stats.mannwhitneyu(experimental_group, control_group)\n",
    "\n",
    "alpha = 0.05\n",
    "if p > alpha:\n",
    "    print('H0 not rejected.')\n",
    "else:\n",
    "    print('H0 rejected;', 'p-value=%.3f'%p)"
   ]
  },
  {
   "cell_type": "markdown",
   "metadata": {},
   "source": [
    "Нет. Скорпионы не любимее всех остальных зодиаков."
   ]
  },
  {
   "cell_type": "markdown",
   "metadata": {},
   "source": [
    "### Гипотеза 4. Зодиаки стихии огня чаще получают сердечки под профилем.\n",
    "\n",
    "H0: распределение сердечек под зодиаками стихии огня не отличается от совокупного распределения всех остальных зодиаков.\n",
    "\n",
    "Н1: распределение сердечек под зодиаками стихии огня отличается от распределения сердечек совокупности всех остальных зодиаков."
   ]
  },
  {
   "cell_type": "code",
   "execution_count": 13,
   "metadata": {},
   "outputs": [],
   "source": [
    "experimental_group = df[df.element == 'fire'].favors\n",
    "control_group = df[df.element != 'fire'].favors"
   ]
  },
  {
   "cell_type": "code",
   "execution_count": 14,
   "metadata": {},
   "outputs": [
    {
     "name": "stdout",
     "output_type": "stream",
     "text": [
      "H0 rejected; p-value=0.012\n"
     ]
    }
   ],
   "source": [
    "st, p = stats.mannwhitneyu(experimental_group, control_group)\n",
    "\n",
    "alpha = 0.05\n",
    "if p > alpha:\n",
    "    print('H0 not rejected.')\n",
    "else:\n",
    "    print('H0 rejected;', 'p-value=%.3f'%p)"
   ]
  },
  {
   "cell_type": "markdown",
   "metadata": {},
   "source": [
    "Действительно, огненые зодиаки самые любимые зрителями. Несмотря на то, что и водные Скорпионы ими тоже очень любимы. Понятно, что четверка самых сердечных актеров зрителей это: Львы, Скорпионы, Овны и Стрельцы."
   ]
  },
  {
   "cell_type": "markdown",
   "metadata": {},
   "source": [
    "# III. Киношные профессии"
   ]
  },
  {
   "cell_type": "markdown",
   "metadata": {},
   "source": [
    "### Гипотеза 5.  Некоторые зодиаки более других склонны скорее к работе режисера, сценариста или продюсера, чем к работе актера.\n",
    "\n",
    "H0: Распределение не-актеров не отличается от равномерного распределения.\n",
    "\n",
    "H1: Распределение не-актеров отличается от равномерного распределения."
   ]
  },
  {
   "cell_type": "code",
   "execution_count": 15,
   "metadata": {},
   "outputs": [],
   "source": [
    "experimental_group = df[(df['writer'] != 0) | (df['producer'] != 0) | (df['director'] != 0)].zodiac.map(lambda x: int(mzl.zod_code[x]))\n",
    "control_group = np.random.randint(1,13, size=len(experimental_group))"
   ]
  },
  {
   "cell_type": "code",
   "execution_count": 16,
   "metadata": {},
   "outputs": [
    {
     "name": "stdout",
     "output_type": "stream",
     "text": [
      "H0 rejected; p-value=0.000\n"
     ]
    }
   ],
   "source": [
    "st, p = stats.mannwhitneyu(experimental_group, control_group)\n",
    "\n",
    "alpha = 0.05\n",
    "if p > alpha:\n",
    "    print('H0 not rejected.')\n",
    "else:\n",
    "    print('H0 rejected;', 'p-value=%.3f'%p)"
   ]
  },
  {
   "cell_type": "markdown",
   "metadata": {},
   "source": [
    "Можно отвергнуть нулевую гипотезу."
   ]
  },
  {
   "cell_type": "markdown",
   "metadata": {},
   "source": [
    "### Гипотеза 6.  Девы более других склонны скорее к работе режисера, сценариста или продюсера, чем к работе актера.\n",
    "\n",
    "H0: Распределение дев не-актеров не отличается от распределения не-дев не-актеров.\n",
    "\n",
    "H1: Распределение дев не-актеров отличается от распределения не-дев не-актеров."
   ]
  },
  {
   "cell_type": "code",
   "execution_count": 17,
   "metadata": {},
   "outputs": [],
   "source": [
    "exp_df = df[(df['writer'] != 0) | (df['producer'] != 0) | (df['director'] != 0)][df.zodiac == 'Virgo']\n",
    "cnt_df = df[(df['writer'] != 0) | (df['producer'] != 0) | (df['director'] != 0)][df.zodiac != 'Vigro']"
   ]
  },
  {
   "cell_type": "code",
   "execution_count": 18,
   "metadata": {},
   "outputs": [],
   "source": [
    "experimental_group = exp_df.writer + exp_df.producer + exp_df.director\n",
    "control_group = cnt_df.writer + cnt_df.producer + cnt_df.director"
   ]
  },
  {
   "cell_type": "code",
   "execution_count": 19,
   "metadata": {},
   "outputs": [
    {
     "name": "stdout",
     "output_type": "stream",
     "text": [
      "H0 rejected; p-value=0.028\n"
     ]
    }
   ],
   "source": [
    "st, p = stats.mannwhitneyu(experimental_group, control_group)\n",
    "\n",
    "alpha = 0.05\n",
    "if p > alpha:\n",
    "    print('H0 not rejected.')\n",
    "else:\n",
    "    print('H0 rejected;', 'p-value=%.3f'%p)"
   ]
  },
  {
   "cell_type": "markdown",
   "metadata": {},
   "source": [
    "Действительно, девы более других склонны к работе режисера, сценариста или продюсера"
   ]
  },
  {
   "cell_type": "markdown",
   "metadata": {},
   "source": [
    "# IV. Число фильмов за карьеру"
   ]
  },
  {
   "cell_type": "markdown",
   "metadata": {},
   "source": [
    "### Гипотеза 7. Огненные знаки чаще других снимаются в кино.\n",
    "\n",
    "H0: Распределение кол-ва фильмов за карьеру у зодиаков стихии огня не отличается от распределения остальных зодиаков.\n",
    "\n",
    "H1: Распределение кол-ва фильмов за карьеру у зодиаков стихии огня отличается от распределения остальных знаков."
   ]
  },
  {
   "cell_type": "code",
   "execution_count": 4,
   "metadata": {},
   "outputs": [],
   "source": [
    "experimental_group = df[df.element=='fire']['total_films']\n",
    "control_group = df[df.element!='fire']['total_films']"
   ]
  },
  {
   "cell_type": "code",
   "execution_count": 5,
   "metadata": {},
   "outputs": [
    {
     "name": "stdout",
     "output_type": "stream",
     "text": [
      "H0 rejected; p-value=0.001\n"
     ]
    }
   ],
   "source": [
    "st, p = stats.mannwhitneyu(experimental_group, control_group)\n",
    "\n",
    "alpha = 0.05\n",
    "if p > alpha:\n",
    "    print('H0 not rejected.')\n",
    "else:\n",
    "    print('H0 rejected;', 'p-value=%.3f'%p)"
   ]
  },
  {
   "cell_type": "markdown",
   "metadata": {},
   "source": [
    "Следовательно, распределение кол-ва фильмов за карьеру у зодиаков стихии огня отличается от распределения остальных знаков."
   ]
  },
  {
   "cell_type": "markdown",
   "metadata": {},
   "source": [
    "# V.  Награды"
   ]
  },
  {
   "cell_type": "markdown",
   "metadata": {},
   "source": [
    "### Гипотеза 8. Огненные зодиаки получают награды чаще зодиаков других стихий. \n",
    "\n",
    "H0: Распределение получения наград у зодиаков стихии огня не отличается от распределение получения наград у зодиаков других стихий стихии.\n",
    "\n",
    "H1: Распределение получения наград у зодиаков стихии огня отличается от распределение получения наград у зодиаков других стихий стихии."
   ]
  },
  {
   "cell_type": "code",
   "execution_count": 37,
   "metadata": {},
   "outputs": [],
   "source": [
    "experimental_group = df[df.element=='fire'].awards.astype(bool).astype(int)\n",
    "control_group = df[df.element!='fire'].awards.astype(bool).astype(int)"
   ]
  },
  {
   "cell_type": "code",
   "execution_count": 38,
   "metadata": {},
   "outputs": [
    {
     "name": "stdout",
     "output_type": "stream",
     "text": [
      "H0 rejected; p-value=0.020\n"
     ]
    }
   ],
   "source": [
    "st, p = stats.mannwhitneyu(experimental_group, control_group)\n",
    "\n",
    "alpha = 0.05\n",
    "if p > alpha:\n",
    "    print('H0 not rejected.')\n",
    "else:\n",
    "    print('H0 rejected;', 'p-value=%.3f'%p)"
   ]
  },
  {
   "cell_type": "markdown",
   "metadata": {},
   "source": [
    "Следовательно, распределение получения наград у зодиаков стихии огня отличается от распределение получения наград у зодиаков других стихий стихии."
   ]
  },
  {
   "cell_type": "markdown",
   "metadata": {},
   "source": [
    "### Гипотеза 9. Огненные зодиаки получают Оскар чаще зодиаков других стихий. \n",
    "\n",
    "H0: Распределение получения Оскаров у зодиаков стихии огня не отличается от распределение получения Оскаров у зодиаков других стихий стихии.\n",
    "\n",
    "H1: Распределение получения Оскаров у зодиаков стихии огня отличается от распределение получения Оскаров у зодиаков других стихий стихии."
   ]
  },
  {
   "cell_type": "code",
   "execution_count": 39,
   "metadata": {},
   "outputs": [],
   "source": [
    "experimental_group = df[df.element=='fire'].oscar.astype(bool).astype(int)\n",
    "control_group = df[df.element!='fire'].oscar.astype(bool).astype(int)"
   ]
  },
  {
   "cell_type": "code",
   "execution_count": 40,
   "metadata": {},
   "outputs": [
    {
     "name": "stdout",
     "output_type": "stream",
     "text": [
      "H0 not rejected.\n"
     ]
    }
   ],
   "source": [
    "st, p = stats.mannwhitneyu(experimental_group, control_group)\n",
    "\n",
    "alpha = 0.05\n",
    "if p > alpha:\n",
    "    print('H0 not rejected.')\n",
    "else:\n",
    "    print('H0 rejected;', 'p-value=%.3f'%p)"
   ]
  },
  {
   "cell_type": "markdown",
   "metadata": {},
   "source": [
    "Следователно, распределение получения Оскаров у зодиаков стихии огня не отличается от распределение получения Оскаров у зодиаков других стихий стихии."
   ]
  },
  {
   "cell_type": "markdown",
   "metadata": {},
   "source": [
    "### Гипотеза 10. Огненные зодиаки получают Оскар (или хотя бы номинацию на Оскар) чаще зодиаков других стихий.\n",
    "\n",
    "H0: Распределение получения Оскаров (и номинаций на Оскар) у зодиаков стихии огня не отличается от распределение получения Оскаров (и номинаций на Оскар) у зодиаков других стихий стихии.\n",
    "\n",
    "H1: Распределение получения Оскаров (и номинаций на Оскар) у зодиаков стихии огня отличается от распределение получения Оскаров (и номинаций на Оскар) у зодиаков других стихий стихии."
   ]
  },
  {
   "cell_type": "code",
   "execution_count": 30,
   "metadata": {},
   "outputs": [],
   "source": [
    "df['have_oscar_or_nom_oscar'] = (df['nom_oscar'] + df['oscar']).astype(bool).astype(int)\n",
    "\n",
    "experimental_group = df[df.element=='fire'].have_oscar_or_nom_oscar\n",
    "control_group = df[df.element!='fire'].have_oscar_or_nom_oscar"
   ]
  },
  {
   "cell_type": "code",
   "execution_count": 31,
   "metadata": {},
   "outputs": [
    {
     "name": "stdout",
     "output_type": "stream",
     "text": [
      "H0 not rejected.\n"
     ]
    }
   ],
   "source": [
    "st, p = stats.mannwhitneyu(experimental_group, control_group)\n",
    "\n",
    "alpha = 0.05\n",
    "if p > alpha:\n",
    "    print('H0 not rejected.')\n",
    "else:\n",
    "    print('H0 rejected;', 'p-value=%.3f'%p)"
   ]
  },
  {
   "cell_type": "markdown",
   "metadata": {},
   "source": [
    "Распределение получения Оскаров (и номинаций на Оскар) у зодиаков стихии огня не отличается от распределение получения Оскаров (и номинаций на Оскар) у зодиаков других стихий стихии."
   ]
  },
  {
   "cell_type": "markdown",
   "metadata": {},
   "source": [
    "# VI. Добавление в закладки"
   ]
  },
  {
   "cell_type": "markdown",
   "metadata": {},
   "source": [
    "### Гипотеза 11. Огненные зодиаки добавляют в закладки чаще зодиаков других стихий. \n",
    "\n",
    "H0: Распределение добавления в закладки у зодиаков стихии огня не отличается от распределения добавления в закладки у зодиаков других стихий.\n",
    "\n",
    "H1: Распределение добавления в закладки у зодиаков стихии огня отличается от распределения добавления в закладки у зодиаков других стихий."
   ]
  },
  {
   "cell_type": "code",
   "execution_count": 43,
   "metadata": {},
   "outputs": [],
   "source": [
    "experimental_group = df[df.element=='fire'].folders\n",
    "control_group = df[df.element!='fire'].folders"
   ]
  },
  {
   "cell_type": "code",
   "execution_count": 44,
   "metadata": {},
   "outputs": [
    {
     "name": "stdout",
     "output_type": "stream",
     "text": [
      "H0 rejected; p-value=0.005\n"
     ]
    }
   ],
   "source": [
    "st, p = stats.mannwhitneyu(experimental_group, control_group)\n",
    "\n",
    "alpha = 0.05\n",
    "if p > alpha:\n",
    "    print('H0 not rejected.')\n",
    "else:\n",
    "    print('H0 rejected;', 'p-value=%.3f'%p)"
   ]
  },
  {
   "cell_type": "markdown",
   "metadata": {},
   "source": [
    "# VII. Выводы"
   ]
  },
  {
   "cell_type": "markdown",
   "metadata": {},
   "source": [
    "Были рассмотрены гипотезы:\n",
    "1. В киноискусстве не равномерное распределение зодиаков.\n",
    "2. В киноискусстве не равномерное распределение элементов.\n",
    "3. Скорпионы чаще всех других зодиаков получают сердечки под профилем в кинопоиске.\n",
    "4. Зодиаки стихии огня чаще получают сердечки под профилем.\n",
    "5. Некоторые зодиаки более других склонны скорее к работе режисера, сценариста или продюсера, чем к работе актера.\n",
    "6. Девы более других склонны скорее к работе режисера, сценариста или продюсера, чем к работе актера.\n",
    "7. Огненные знаки чаще других снимаются в кино.\n",
    "8. Огненные зодиаки получают награды чаще зодиаков других стихий.\n",
    "9. Огненные зодиаки получают Оскар чаще зодиаков других стихий.\n",
    "10. Огненные зодиаки получают Оскар (или хотя бы номинацию на Оскар) чаще зодиаков других стихий.\n",
    "11. Огненные зодиаки добавляют в закладки чаще зодиаков других стихий.\n",
    "\n",
    "Гипотезы: 1, 2, 4, 5, 6, 7, 8, 11 - подтвердились.\n",
    "\n",
    "Гипотезы: 3, 9, 10 - не подтвердились."
   ]
  },
  {
   "cell_type": "markdown",
   "metadata": {},
   "source": [
    "Я накидал наобум несколько первых пришедших на ум гипотез. Предлагайте другие гипотезы - я их обязательно проверю, если их можно будет проверить по этим данным"
   ]
  },
  {
   "cell_type": "code",
   "execution_count": null,
   "metadata": {},
   "outputs": [],
   "source": []
  }
 ],
 "metadata": {
  "kernelspec": {
   "display_name": "Python 3",
   "language": "python",
   "name": "python3"
  },
  "language_info": {
   "codemirror_mode": {
    "name": "ipython",
    "version": 3
   },
   "file_extension": ".py",
   "mimetype": "text/x-python",
   "name": "python",
   "nbconvert_exporter": "python",
   "pygments_lexer": "ipython3",
   "version": "3.7.3"
  }
 },
 "nbformat": 4,
 "nbformat_minor": 2
}
