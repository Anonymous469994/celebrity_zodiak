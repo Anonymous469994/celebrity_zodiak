{
 "cells": [
  {
   "cell_type": "code",
   "execution_count": 1,
   "metadata": {},
   "outputs": [],
   "source": [
    "import logging\n",
    "logging.basicConfig(\n",
    "#         filename='file1.log',\n",
    "        level=logging.WARNING,\n",
    "        format='%(asctime)s %(levelname)s:\\t%(message)s',\n",
    "        datefmt='%Y-%m-%d %H:%M:%S')"
   ]
  },
  {
   "cell_type": "markdown",
   "metadata": {},
   "source": [
    "# 1 этап. Нахождение ссылок на людей."
   ]
  },
  {
   "cell_type": "code",
   "execution_count": 2,
   "metadata": {},
   "outputs": [],
   "source": [
    "import re\n",
    "import requests\n",
    "from bs4 import BeautifulSoup\n",
    "import time\n",
    "from tqdm import tqdm_notebook\n",
    "import sys\n",
    "from multiprocessing import Pool\n",
    "from multiprocessing.dummy import Pool as ThreadPool\n",
    "from datetime import datetime\n",
    "from lxml import etree, html as lhtml\n",
    "import pandas as pd"
   ]
  },
  {
   "cell_type": "code",
   "execution_count": 3,
   "metadata": {},
   "outputs": [],
   "source": [
    "actors_links_txt = 'actors_links.txt'\n",
    "popular_main_page = 'https://www.kinopoisk.ru/popular/names/day/2020-06-12/'\n",
    "site_name = 'https://www.kinopoisk.ru'\n",
    "\n",
    "attempts_number = 2"
   ]
  },
  {
   "cell_type": "code",
   "execution_count": 135,
   "metadata": {
    "scrolled": true
   },
   "outputs": [],
   "source": [
    "def process_one_author_books(popular_main_page, site_name, f_write):\n",
    "    def find_the_number_of_iterations(author_soup):\n",
    "        total_pages = 50\n",
    "        total_actors = 10000\n",
    "        return total_pages, total_actors\n",
    "    def process_main_page(author_soup, curr_address):        \n",
    "        r_get = requests.get(curr_address)\n",
    "        tree = lhtml.fromstring(r_get.text)\n",
    "        table_el = tree.xpath('//div[@class=\"stat js-rum-hero\"]')\n",
    "        lst_el = table_el[0].xpath('//a[@style=\"font:100 12px arial,sans-serif\"]/attribute::href')\n",
    "        if books_descs is None:\n",
    "            logging.error('no books found:\\t{}'.format(curr_address))\n",
    "            return\n",
    "        for it in lst_el:\n",
    "            print(site_name + it, file=f_write)\n",
    "        logging.info('success:\\t\\t{}'.format(curr_address))  \n",
    "    def process_fork_page(curr_address):\n",
    "        for i in range(1, attempts_number+1):\n",
    "            r_get = requests.get(curr_address)\n",
    "            if (r_get.ok):\n",
    "                break\n",
    "            logging.error('bad get request ({}/{}):\\t{}'.format(i, attempts_number, curr_address))\n",
    "            time.sleep(1)\n",
    "        if not (r_get.ok):\n",
    "            return\n",
    "        author_soup = BeautifulSoup(r_get.text, 'lxml')\n",
    "        process_main_page(author_soup, curr_address)\n",
    "\n",
    "    for i in range(1, attempts_number+1):\n",
    "        r_get = requests.get(popular_main_page)\n",
    "        if (r_get.ok):\n",
    "            break\n",
    "        logging.error('bad get request ({}/{}):\\t{}'.format(i, attempts_number, popular_main_page))\n",
    "        time.sleep(1)\n",
    "    if not (r_get.ok):\n",
    "        return\n",
    "    \n",
    "    author_soup = BeautifulSoup(r_get.text, 'lxml')   \n",
    "    total_pages, _ = find_the_number_of_iterations(author_soup)\n",
    "    pages = []\n",
    "    for curr_page in range(2, total_pages+1):\n",
    "        pages.append(popular_main_page + 'page/{}/'.format(str(curr_page)))    \n",
    "#     with ThreadPool(processes=total_pages) as pool:\n",
    "#         pool.map(process_fork_page, pages)\n",
    "    process_main_page(author_soup, popular_main_page)\n",
    "    for page in pages:\n",
    "        process_fork_page(page)"
   ]
  },
  {
   "cell_type": "code",
   "execution_count": 133,
   "metadata": {
    "scrolled": true
   },
   "outputs": [],
   "source": [
    "with open(actors_links_txt, 'w') as f_write:\n",
    "    process_one_author_books(popular_main_page, site_name, f_write)\n",
    "logging.info('completed')        "
   ]
  },
  {
   "cell_type": "markdown",
   "metadata": {},
   "source": [
    "# 2 этап. Обкачка этих ссылок."
   ]
  },
  {
   "cell_type": "code",
   "execution_count": 59,
   "metadata": {},
   "outputs": [],
   "source": [
    "from selenium import webdriver\n",
    "\n",
    "import html\n",
    "from time import sleep\n",
    "from selenium.common.exceptions import NoSuchElementException        "
   ]
  },
  {
   "cell_type": "code",
   "execution_count": 304,
   "metadata": {},
   "outputs": [],
   "source": [
    "def process_one_page(card_data):\n",
    "    url, driver, f_write, rank = card_data\n",
    "    def check_exists_by_xpath(xpath, driver):\n",
    "        try:\n",
    "            driver.find_element_by_xpath(xpath)\n",
    "        except NoSuchElementException:\n",
    "            return False\n",
    "        return True\n",
    "    driver.get(url)      \n",
    "    sleep(1.5)\n",
    "\n",
    "    name = driver.find_element_by_xpath('//h1[@class=\"moviename-big\"]').text\n",
    "    print('{}\\t{}'.format(rank, name), file=f_write, end='')\n",
    "    favors = driver.find_element_by_xpath('//div[@class=\"num\"]').text\n",
    "    if favors != '':\n",
    "        favors = int(favors)\n",
    "        print('\\t{}'.format(favors), file=f_write, end='')\n",
    "    foldrs = re.search(r'[0-9]+', driver.find_element_by_xpath('//div[@class=\"text\"]').text)\n",
    "    if foldrs is not None:\n",
    "        foldrs = int(foldrs[0])\n",
    "        print('\\t{}'.format(foldrs), file=f_write, end='') \n",
    "    awards = check_exists_by_xpath('//table[@id=\"awardsBlock\"]', driver)\n",
    "    print('\\t{}'.format(foldrs, awards), file=f_write, end='')\n",
    "\n",
    "    describe = (e.text for e in driver.find_elements_by_xpath('//table[@class=\"info\"]//tr'))\n",
    "    describe = list(filter(None, map(str.lower, describe)))    \n",
    "    for item in describe: \n",
    "        if item[:7] == 'карьера':\n",
    "            career = item[8:].replace(', ', ';').replace(',', ';')\n",
    "            print('\\t{}'.format(career), file=f_write, end='')\n",
    "        elif item[:4] == 'рост':\n",
    "            length = float(item[5:-2]) \n",
    "            print('\\t{}'.format(length), file=f_write, end='')\n",
    "        elif item[:13] == 'дата рождения':\n",
    "            b_day = item[14:].split(sep=',') \n",
    "            if len(b_day) != 2:\n",
    "                continue\n",
    "            day = int(b_day[0].split()[0])\n",
    "            mounth  = b_day[0].split()[1]\n",
    "            year = int(re.search(r'[0-9]{4,}', b_day[1])[0])\n",
    "            print('\\t{}\\t{}\\t{}'.format(year, day, mounth), file=f_write, end='')\n",
    "        elif item[:14] == 'место рождения':\n",
    "            b_place = item[15:].split(sep=',')\n",
    "#             if len(b_place) == 0:\n",
    "#                 continue\n",
    "            city = b_place[0]\n",
    "            print('\\t{}'.format(city), file=f_write, end='')\n",
    "            if len(b_place) != 1:\n",
    "                country = b_place[1][1:]\n",
    "                print('\\t{}'.format(country), file=f_write, end='')\n",
    "        elif item[:5] == 'жанры':\n",
    "            genres = ';'.join([i[1:] for i in item[5:].split(sep=',')])\n",
    "            print('\\t{}'.format(genres), file=f_write, end='')\n",
    "        elif item[:7] == 'супруга':\n",
    "            family = item[8:].split(sep='\\n')\n",
    "            children = ';'.join([re.search(r'\\.\\.\\. .*(ребен|детей)', i)[0][4:-6] for i in family \\\n",
    "                                 if re.search(r'\\.\\.\\. .*(ребен|детей)', i) is not None])\n",
    "            spouses = ';'.join([i for i in family if re.search(r'\\.\\.\\. .*(ребен|детей)', i) is None])\n",
    "            print('\\t{}\\t{}'.format(children, spouses), file=f_write, end='')\n",
    "        elif item[:13] == 'всего фильмов':\n",
    "            total_films = item[14:].split(sep=',')\n",
    "            films_number = int(total_films[0])\n",
    "            career_years = total_films[1][1:].split(sep=' — ')\n",
    "            career_start = int(career_years[0])\n",
    "            print('\\t{}\\t{}'.format(films_number, career_start), file=f_write, end='')\n",
    "            if len(career_years) != 1:                \n",
    "                career_finish = int(career_years[1])\n",
    "                print('\\t{}'.format(career_finish), file=f_write, end='')\n",
    "\n",
    "    print('', file=f_write)\n",
    "    logging.info('success:\\t\\t{}'.format(url))  "
   ]
  },
  {
   "cell_type": "code",
   "execution_count": 307,
   "metadata": {
    "scrolled": true
   },
   "outputs": [],
   "source": [
    "nrun = 8\n",
    "start = 600\n",
    "finish = 700\n",
    "\n",
    "def count_lines(filename):\n",
    "    with open(filename) as file:\n",
    "        return sum(chunk.count('\\n') for chunk in iter(lambda: file.read(), ''))\n",
    "\n",
    "cart_table_txt = 'cart_table({}).txt'.format(nrun)\n",
    "actors_links_txt = 'actors_links_ranked.txt'\n",
    "total_actors = count_lines(actors_links_txt)"
   ]
  },
  {
   "cell_type": "code",
   "execution_count": 309,
   "metadata": {
    "scrolled": true
   },
   "outputs": [
    {
     "data": {
      "application/vnd.jupyter.widget-view+json": {
       "model_id": "5fa5d988a4274593bef0511e52c80dab",
       "version_major": 2,
       "version_minor": 0
      },
      "text/plain": [
       "HBox(children=(IntProgress(value=0, max=10000), HTML(value='')))"
      ]
     },
     "metadata": {},
     "output_type": "display_data"
    },
    {
     "ename": "NoSuchElementException",
     "evalue": "Message: Unable to locate element: //h1[@class=\"moviename-big\"]\n",
     "output_type": "error",
     "traceback": [
      "\u001b[0;31m---------------------------------------------------------------------------\u001b[0m",
      "\u001b[0;31mNoSuchElementException\u001b[0m                    Traceback (most recent call last)",
      "\u001b[0;32m<ipython-input-309-97593d52ab9b>\u001b[0m in \u001b[0;36m<module>\u001b[0;34m\u001b[0m\n\u001b[1;32m     10\u001b[0m \u001b[0;34m\u001b[0m\u001b[0m\n\u001b[1;32m     11\u001b[0m         \u001b[0;32mfor\u001b[0m \u001b[0mcard_data\u001b[0m \u001b[0;32min\u001b[0m \u001b[0mcard_tuples\u001b[0m\u001b[0;34m[\u001b[0m\u001b[0mstart\u001b[0m\u001b[0;34m:\u001b[0m\u001b[0mfinish\u001b[0m\u001b[0;34m]\u001b[0m\u001b[0;34m:\u001b[0m\u001b[0;34m\u001b[0m\u001b[0;34m\u001b[0m\u001b[0m\n\u001b[0;32m---> 12\u001b[0;31m             \u001b[0mprocess_one_page\u001b[0m\u001b[0;34m(\u001b[0m\u001b[0mcard_data\u001b[0m\u001b[0;34m)\u001b[0m\u001b[0;34m\u001b[0m\u001b[0;34m\u001b[0m\u001b[0m\n\u001b[0m\u001b[1;32m     13\u001b[0m             \u001b[0mpbar\u001b[0m\u001b[0;34m.\u001b[0m\u001b[0mupdate\u001b[0m\u001b[0;34m(\u001b[0m\u001b[0;36m1\u001b[0m\u001b[0;34m)\u001b[0m\u001b[0;34m\u001b[0m\u001b[0;34m\u001b[0m\u001b[0m\n",
      "\u001b[0;32m<ipython-input-304-79fe7fe536fb>\u001b[0m in \u001b[0;36mprocess_one_page\u001b[0;34m(card_data)\u001b[0m\n\u001b[1;32m     10\u001b[0m     \u001b[0msleep\u001b[0m\u001b[0;34m(\u001b[0m\u001b[0;36m1.5\u001b[0m\u001b[0;34m)\u001b[0m\u001b[0;34m\u001b[0m\u001b[0;34m\u001b[0m\u001b[0m\n\u001b[1;32m     11\u001b[0m \u001b[0;34m\u001b[0m\u001b[0m\n\u001b[0;32m---> 12\u001b[0;31m     \u001b[0mname\u001b[0m \u001b[0;34m=\u001b[0m \u001b[0mdriver\u001b[0m\u001b[0;34m.\u001b[0m\u001b[0mfind_element_by_xpath\u001b[0m\u001b[0;34m(\u001b[0m\u001b[0;34m'//h1[@class=\"moviename-big\"]'\u001b[0m\u001b[0;34m)\u001b[0m\u001b[0;34m.\u001b[0m\u001b[0mtext\u001b[0m\u001b[0;34m\u001b[0m\u001b[0;34m\u001b[0m\u001b[0m\n\u001b[0m\u001b[1;32m     13\u001b[0m     \u001b[0mprint\u001b[0m\u001b[0;34m(\u001b[0m\u001b[0;34m'{}\\t{}'\u001b[0m\u001b[0;34m.\u001b[0m\u001b[0mformat\u001b[0m\u001b[0;34m(\u001b[0m\u001b[0mrank\u001b[0m\u001b[0;34m,\u001b[0m \u001b[0mname\u001b[0m\u001b[0;34m)\u001b[0m\u001b[0;34m,\u001b[0m \u001b[0mfile\u001b[0m\u001b[0;34m=\u001b[0m\u001b[0mf_write\u001b[0m\u001b[0;34m,\u001b[0m \u001b[0mend\u001b[0m\u001b[0;34m=\u001b[0m\u001b[0;34m''\u001b[0m\u001b[0;34m)\u001b[0m\u001b[0;34m\u001b[0m\u001b[0;34m\u001b[0m\u001b[0m\n\u001b[1;32m     14\u001b[0m     \u001b[0mfavors\u001b[0m \u001b[0;34m=\u001b[0m \u001b[0mdriver\u001b[0m\u001b[0;34m.\u001b[0m\u001b[0mfind_element_by_xpath\u001b[0m\u001b[0;34m(\u001b[0m\u001b[0;34m'//div[@class=\"num\"]'\u001b[0m\u001b[0;34m)\u001b[0m\u001b[0;34m.\u001b[0m\u001b[0mtext\u001b[0m\u001b[0;34m\u001b[0m\u001b[0;34m\u001b[0m\u001b[0m\n",
      "\u001b[0;32m~/.local/lib/python3.7/site-packages/selenium/webdriver/remote/webdriver.py\u001b[0m in \u001b[0;36mfind_element_by_xpath\u001b[0;34m(self, xpath)\u001b[0m\n\u001b[1;32m    392\u001b[0m             \u001b[0melement\u001b[0m \u001b[0;34m=\u001b[0m \u001b[0mdriver\u001b[0m\u001b[0;34m.\u001b[0m\u001b[0mfind_element_by_xpath\u001b[0m\u001b[0;34m(\u001b[0m\u001b[0;34m'//div/td[1]'\u001b[0m\u001b[0;34m)\u001b[0m\u001b[0;34m\u001b[0m\u001b[0;34m\u001b[0m\u001b[0m\n\u001b[1;32m    393\u001b[0m         \"\"\"\n\u001b[0;32m--> 394\u001b[0;31m         \u001b[0;32mreturn\u001b[0m \u001b[0mself\u001b[0m\u001b[0;34m.\u001b[0m\u001b[0mfind_element\u001b[0m\u001b[0;34m(\u001b[0m\u001b[0mby\u001b[0m\u001b[0;34m=\u001b[0m\u001b[0mBy\u001b[0m\u001b[0;34m.\u001b[0m\u001b[0mXPATH\u001b[0m\u001b[0;34m,\u001b[0m \u001b[0mvalue\u001b[0m\u001b[0;34m=\u001b[0m\u001b[0mxpath\u001b[0m\u001b[0;34m)\u001b[0m\u001b[0;34m\u001b[0m\u001b[0;34m\u001b[0m\u001b[0m\n\u001b[0m\u001b[1;32m    395\u001b[0m \u001b[0;34m\u001b[0m\u001b[0m\n\u001b[1;32m    396\u001b[0m     \u001b[0;32mdef\u001b[0m \u001b[0mfind_elements_by_xpath\u001b[0m\u001b[0;34m(\u001b[0m\u001b[0mself\u001b[0m\u001b[0;34m,\u001b[0m \u001b[0mxpath\u001b[0m\u001b[0;34m)\u001b[0m\u001b[0;34m:\u001b[0m\u001b[0;34m\u001b[0m\u001b[0;34m\u001b[0m\u001b[0m\n",
      "\u001b[0;32m~/.local/lib/python3.7/site-packages/selenium/webdriver/remote/webdriver.py\u001b[0m in \u001b[0;36mfind_element\u001b[0;34m(self, by, value)\u001b[0m\n\u001b[1;32m    976\u001b[0m         return self.execute(Command.FIND_ELEMENT, {\n\u001b[1;32m    977\u001b[0m             \u001b[0;34m'using'\u001b[0m\u001b[0;34m:\u001b[0m \u001b[0mby\u001b[0m\u001b[0;34m,\u001b[0m\u001b[0;34m\u001b[0m\u001b[0;34m\u001b[0m\u001b[0m\n\u001b[0;32m--> 978\u001b[0;31m             'value': value})['value']\n\u001b[0m\u001b[1;32m    979\u001b[0m \u001b[0;34m\u001b[0m\u001b[0m\n\u001b[1;32m    980\u001b[0m     \u001b[0;32mdef\u001b[0m \u001b[0mfind_elements\u001b[0m\u001b[0;34m(\u001b[0m\u001b[0mself\u001b[0m\u001b[0;34m,\u001b[0m \u001b[0mby\u001b[0m\u001b[0;34m=\u001b[0m\u001b[0mBy\u001b[0m\u001b[0;34m.\u001b[0m\u001b[0mID\u001b[0m\u001b[0;34m,\u001b[0m \u001b[0mvalue\u001b[0m\u001b[0;34m=\u001b[0m\u001b[0;32mNone\u001b[0m\u001b[0;34m)\u001b[0m\u001b[0;34m:\u001b[0m\u001b[0;34m\u001b[0m\u001b[0;34m\u001b[0m\u001b[0m\n",
      "\u001b[0;32m~/.local/lib/python3.7/site-packages/selenium/webdriver/remote/webdriver.py\u001b[0m in \u001b[0;36mexecute\u001b[0;34m(self, driver_command, params)\u001b[0m\n\u001b[1;32m    319\u001b[0m         \u001b[0mresponse\u001b[0m \u001b[0;34m=\u001b[0m \u001b[0mself\u001b[0m\u001b[0;34m.\u001b[0m\u001b[0mcommand_executor\u001b[0m\u001b[0;34m.\u001b[0m\u001b[0mexecute\u001b[0m\u001b[0;34m(\u001b[0m\u001b[0mdriver_command\u001b[0m\u001b[0;34m,\u001b[0m \u001b[0mparams\u001b[0m\u001b[0;34m)\u001b[0m\u001b[0;34m\u001b[0m\u001b[0;34m\u001b[0m\u001b[0m\n\u001b[1;32m    320\u001b[0m         \u001b[0;32mif\u001b[0m \u001b[0mresponse\u001b[0m\u001b[0;34m:\u001b[0m\u001b[0;34m\u001b[0m\u001b[0;34m\u001b[0m\u001b[0m\n\u001b[0;32m--> 321\u001b[0;31m             \u001b[0mself\u001b[0m\u001b[0;34m.\u001b[0m\u001b[0merror_handler\u001b[0m\u001b[0;34m.\u001b[0m\u001b[0mcheck_response\u001b[0m\u001b[0;34m(\u001b[0m\u001b[0mresponse\u001b[0m\u001b[0;34m)\u001b[0m\u001b[0;34m\u001b[0m\u001b[0;34m\u001b[0m\u001b[0m\n\u001b[0m\u001b[1;32m    322\u001b[0m             response['value'] = self._unwrap_value(\n\u001b[1;32m    323\u001b[0m                 response.get('value', None))\n",
      "\u001b[0;32m~/.local/lib/python3.7/site-packages/selenium/webdriver/remote/errorhandler.py\u001b[0m in \u001b[0;36mcheck_response\u001b[0;34m(self, response)\u001b[0m\n\u001b[1;32m    240\u001b[0m                 \u001b[0malert_text\u001b[0m \u001b[0;34m=\u001b[0m \u001b[0mvalue\u001b[0m\u001b[0;34m[\u001b[0m\u001b[0;34m'alert'\u001b[0m\u001b[0;34m]\u001b[0m\u001b[0;34m.\u001b[0m\u001b[0mget\u001b[0m\u001b[0;34m(\u001b[0m\u001b[0;34m'text'\u001b[0m\u001b[0;34m)\u001b[0m\u001b[0;34m\u001b[0m\u001b[0;34m\u001b[0m\u001b[0m\n\u001b[1;32m    241\u001b[0m             \u001b[0;32mraise\u001b[0m \u001b[0mexception_class\u001b[0m\u001b[0;34m(\u001b[0m\u001b[0mmessage\u001b[0m\u001b[0;34m,\u001b[0m \u001b[0mscreen\u001b[0m\u001b[0;34m,\u001b[0m \u001b[0mstacktrace\u001b[0m\u001b[0;34m,\u001b[0m \u001b[0malert_text\u001b[0m\u001b[0;34m)\u001b[0m\u001b[0;34m\u001b[0m\u001b[0;34m\u001b[0m\u001b[0m\n\u001b[0;32m--> 242\u001b[0;31m         \u001b[0;32mraise\u001b[0m \u001b[0mexception_class\u001b[0m\u001b[0;34m(\u001b[0m\u001b[0mmessage\u001b[0m\u001b[0;34m,\u001b[0m \u001b[0mscreen\u001b[0m\u001b[0;34m,\u001b[0m \u001b[0mstacktrace\u001b[0m\u001b[0;34m)\u001b[0m\u001b[0;34m\u001b[0m\u001b[0;34m\u001b[0m\u001b[0m\n\u001b[0m\u001b[1;32m    243\u001b[0m \u001b[0;34m\u001b[0m\u001b[0m\n\u001b[1;32m    244\u001b[0m     \u001b[0;32mdef\u001b[0m \u001b[0m_value_or_default\u001b[0m\u001b[0;34m(\u001b[0m\u001b[0mself\u001b[0m\u001b[0;34m,\u001b[0m \u001b[0mobj\u001b[0m\u001b[0;34m,\u001b[0m \u001b[0mkey\u001b[0m\u001b[0;34m,\u001b[0m \u001b[0mdefault\u001b[0m\u001b[0;34m)\u001b[0m\u001b[0;34m:\u001b[0m\u001b[0;34m\u001b[0m\u001b[0;34m\u001b[0m\u001b[0m\n",
      "\u001b[0;31mNoSuchElementException\u001b[0m: Message: Unable to locate element: //h1[@class=\"moviename-big\"]\n"
     ]
    }
   ],
   "source": [
    "pbar = tqdm_notebook(total=total_actors)\n",
    "pbar.update(start)\n",
    "\n",
    "with webdriver.Firefox() as driver:\n",
    "    with open(cart_table_txt, 'w') as f_write:\n",
    "        print('rank\\tname\\tfavors\\tfolders\\tawards\\tcareer\\theight\\tyear\\tday\\tmounth\\tcity\\tcountry' +\\\n",
    "              '\\tgenres\\tchildren\\tspouses\\ttotal_films\\tcareer_start\\tcaree_finish', file=cart_table)\n",
    "        card_tuples = []\n",
    "        with open(actors_links_txt, 'r') as f_read:\n",
    "            for rank, item in enumerate(f_read):\n",
    "                card_tuples.append((item[:-2], driver, f_write, rank+1))\n",
    "        \n",
    "        for card_data in card_tuples[start:finish]:\n",
    "            process_one_page(card_data)\n",
    "            pbar.update(1)"
   ]
  },
  {
   "cell_type": "markdown",
   "metadata": {},
   "source": [
    "# 3. DataMining"
   ]
  },
  {
   "cell_type": "code",
   "execution_count": 378,
   "metadata": {},
   "outputs": [
    {
     "data": {
      "text/html": [
       "<div>\n",
       "<style scoped>\n",
       "    .dataframe tbody tr th:only-of-type {\n",
       "        vertical-align: middle;\n",
       "    }\n",
       "\n",
       "    .dataframe tbody tr th {\n",
       "        vertical-align: top;\n",
       "    }\n",
       "\n",
       "    .dataframe thead th {\n",
       "        text-align: right;\n",
       "    }\n",
       "</style>\n",
       "<table border=\"1\" class=\"dataframe\">\n",
       "  <thead>\n",
       "    <tr style=\"text-align: right;\">\n",
       "      <th></th>\n",
       "      <th>rank</th>\n",
       "      <th>name</th>\n",
       "      <th>favors</th>\n",
       "      <th>folders</th>\n",
       "      <th>awards</th>\n",
       "      <th>career</th>\n",
       "      <th>height</th>\n",
       "      <th>year</th>\n",
       "      <th>day</th>\n",
       "      <th>mounth</th>\n",
       "      <th>city</th>\n",
       "      <th>country</th>\n",
       "      <th>genres</th>\n",
       "      <th>children</th>\n",
       "      <th>spouses</th>\n",
       "      <th>total_films</th>\n",
       "      <th>career_start</th>\n",
       "      <th>caree_finish</th>\n",
       "    </tr>\n",
       "  </thead>\n",
       "  <tbody>\n",
       "    <tr>\n",
       "      <th>0</th>\n",
       "      <td>1</td>\n",
       "      <td>Михаил Ефремов</td>\n",
       "      <td>693</td>\n",
       "      <td>4705</td>\n",
       "      <td>False</td>\n",
       "      <td>актер;актер: дубляж;сценарист</td>\n",
       "      <td>1.75</td>\n",
       "      <td>1963</td>\n",
       "      <td>10</td>\n",
       "      <td>ноября</td>\n",
       "      <td>москва</td>\n",
       "      <td>ссср (россия)</td>\n",
       "      <td>комедия;драма;мелодрама</td>\n",
       "      <td>один;один;один;трое</td>\n",
       "      <td>ася воробьева (развод);евгения добровольская (...</td>\n",
       "      <td>195.0</td>\n",
       "      <td>1976.0</td>\n",
       "      <td>2020.0</td>\n",
       "    </tr>\n",
       "    <tr>\n",
       "      <th>1</th>\n",
       "      <td>2</td>\n",
       "      <td>Гай Ричи</td>\n",
       "      <td>5353</td>\n",
       "      <td>39861</td>\n",
       "      <td>True</td>\n",
       "      <td>режиссер;сценарист;продюсер;актер</td>\n",
       "      <td>1.8</td>\n",
       "      <td>1968</td>\n",
       "      <td>10</td>\n",
       "      <td>сентября</td>\n",
       "      <td>хатфилд</td>\n",
       "      <td>хартвордшир</td>\n",
       "      <td>короткометражка;криминал;боевик</td>\n",
       "      <td>двое;трое</td>\n",
       "      <td>мадонна (развод);джеки эйнсли</td>\n",
       "      <td>62.0</td>\n",
       "      <td>1995.0</td>\n",
       "      <td>2021.0</td>\n",
       "    </tr>\n",
       "  </tbody>\n",
       "</table>\n",
       "</div>"
      ],
      "text/plain": [
       "   rank            name  favors folders awards  \\\n",
       "0     1  Михаил Ефремов     693    4705  False   \n",
       "1     2        Гай Ричи    5353   39861   True   \n",
       "\n",
       "                              career height  year day    mounth     city  \\\n",
       "0      актер;актер: дубляж;сценарист   1.75  1963  10    ноября   москва   \n",
       "1  режиссер;сценарист;продюсер;актер    1.8  1968  10  сентября  хатфилд   \n",
       "\n",
       "         country                           genres             children  \\\n",
       "0  ссср (россия)          комедия;драма;мелодрама  один;один;один;трое   \n",
       "1    хартвордшир  короткометражка;криминал;боевик            двое;трое   \n",
       "\n",
       "                                             spouses  total_films  \\\n",
       "0  ася воробьева (развод);евгения добровольская (...        195.0   \n",
       "1                      мадонна (развод);джеки эйнсли         62.0   \n",
       "\n",
       "   career_start  caree_finish  \n",
       "0        1976.0        2020.0  \n",
       "1        1995.0        2021.0  "
      ]
     },
     "execution_count": 378,
     "metadata": {},
     "output_type": "execute_result"
    }
   ],
   "source": [
    "df = pd.read_csv('total_cart_table', sep='\\t')\n",
    "df.head(2)"
   ]
  },
  {
   "cell_type": "code",
   "execution_count": 379,
   "metadata": {},
   "outputs": [],
   "source": [
    "def fit_mounth(x):\n",
    "    if x == 'января':\n",
    "        return 1\n",
    "    elif x == 'февраля':\n",
    "        return 2\n",
    "    elif x == 'марта':\n",
    "        return 3\n",
    "    elif x == 'апреля':\n",
    "        return 4\n",
    "    elif x == 'мая':\n",
    "        return 5\n",
    "    elif x == 'июня':\n",
    "        return 6\n",
    "    elif x == 'июля':\n",
    "        return 7\n",
    "    elif x == 'августа':\n",
    "        return 8\n",
    "    elif x == 'сентября':\n",
    "        return 9\n",
    "    elif x == 'октября':\n",
    "        return 10\n",
    "    elif x == 'ноября':\n",
    "        return 11\n",
    "    elif x == 'декабря':\n",
    "        return 12\n",
    "    else:\n",
    "        return "
   ]
  },
  {
   "cell_type": "code",
   "execution_count": 380,
   "metadata": {},
   "outputs": [],
   "source": [
    "def find_zodiac(data):\n",
    "    x = data % 10000\n",
    "    if (321 <= x) and (x <= 420):\n",
    "        return 'Aries'\n",
    "    elif (421 <= x) and (x <= 520):\n",
    "        return 'Taurus'\n",
    "    elif (521 <= x) and (x <= 621):\n",
    "        return 'Gemini'\n",
    "    elif (622 <= x) and (x <= 722):\n",
    "        return 'Cancer'\n",
    "    elif (723 <= x) and (x <= 823):\n",
    "        return 'Leo'\n",
    "    elif (824 <= x) and (x <= 921):\n",
    "        return 'Virgo'\n",
    "    elif (922 <= x) and (x <= 1022):\n",
    "        return 'Libra'\n",
    "    elif (1023 <= x) and (x <= 1121):\n",
    "        return 'Scorpio'\n",
    "    elif (1122 <= x) and (x <= 1221):\n",
    "        return 'Sagittarius'\n",
    "    elif (1222 <= x) or (x <= 120):\n",
    "        return 'Capricorn'\n",
    "    elif (121 <= x) and (x <= 219):\n",
    "        return 'Aquarius'\n",
    "    elif (220 <= x) and (x <= 320):\n",
    "        return 'Pisces'\n",
    "    else:\n",
    "        return "
   ]
  },
  {
   "cell_type": "code",
   "execution_count": 381,
   "metadata": {},
   "outputs": [],
   "source": [
    "df.loc[:, 'new_mounth'] = df['mounth'].map(fit_mounth)\n",
    "df.dropna(subset=['new_mounth'], inplace=True)\n",
    "df['new_mounth'] = df['new_mounth'].astype(int)\n",
    "df['year'] = df['year'].astype(int)\n",
    "df['day'] = df['day'].astype(int)\n",
    "df['data'] = df['year']*10000 + df['new_mounth']*100 + df['day']\n",
    "\n",
    "df.loc[:, 'zodiac'] = df['data'].map(find_zodiac)"
   ]
  },
  {
   "cell_type": "code",
   "execution_count": 382,
   "metadata": {},
   "outputs": [
    {
     "data": {
      "text/html": [
       "<div>\n",
       "<style scoped>\n",
       "    .dataframe tbody tr th:only-of-type {\n",
       "        vertical-align: middle;\n",
       "    }\n",
       "\n",
       "    .dataframe tbody tr th {\n",
       "        vertical-align: top;\n",
       "    }\n",
       "\n",
       "    .dataframe thead th {\n",
       "        text-align: right;\n",
       "    }\n",
       "</style>\n",
       "<table border=\"1\" class=\"dataframe\">\n",
       "  <thead>\n",
       "    <tr style=\"text-align: right;\">\n",
       "      <th></th>\n",
       "      <th>rank</th>\n",
       "      <th>name</th>\n",
       "      <th>favors</th>\n",
       "      <th>folders</th>\n",
       "      <th>awards</th>\n",
       "      <th>career</th>\n",
       "      <th>height</th>\n",
       "      <th>year</th>\n",
       "      <th>day</th>\n",
       "      <th>mounth</th>\n",
       "      <th>...</th>\n",
       "      <th>country</th>\n",
       "      <th>genres</th>\n",
       "      <th>children</th>\n",
       "      <th>spouses</th>\n",
       "      <th>total_films</th>\n",
       "      <th>career_start</th>\n",
       "      <th>caree_finish</th>\n",
       "      <th>new_mounth</th>\n",
       "      <th>data</th>\n",
       "      <th>zodiac</th>\n",
       "    </tr>\n",
       "  </thead>\n",
       "  <tbody>\n",
       "    <tr>\n",
       "      <th>0</th>\n",
       "      <td>1</td>\n",
       "      <td>Михаил Ефремов</td>\n",
       "      <td>693</td>\n",
       "      <td>4705</td>\n",
       "      <td>False</td>\n",
       "      <td>актер;актер: дубляж;сценарист</td>\n",
       "      <td>1.75</td>\n",
       "      <td>1963</td>\n",
       "      <td>10</td>\n",
       "      <td>ноября</td>\n",
       "      <td>...</td>\n",
       "      <td>ссср (россия)</td>\n",
       "      <td>комедия;драма;мелодрама</td>\n",
       "      <td>один;один;один;трое</td>\n",
       "      <td>ася воробьева (развод);евгения добровольская (...</td>\n",
       "      <td>195.0</td>\n",
       "      <td>1976.0</td>\n",
       "      <td>2020.0</td>\n",
       "      <td>11</td>\n",
       "      <td>19631110</td>\n",
       "      <td>Scorpio</td>\n",
       "    </tr>\n",
       "    <tr>\n",
       "      <th>1</th>\n",
       "      <td>2</td>\n",
       "      <td>Гай Ричи</td>\n",
       "      <td>5353</td>\n",
       "      <td>39861</td>\n",
       "      <td>True</td>\n",
       "      <td>режиссер;сценарист;продюсер;актер</td>\n",
       "      <td>1.8</td>\n",
       "      <td>1968</td>\n",
       "      <td>10</td>\n",
       "      <td>сентября</td>\n",
       "      <td>...</td>\n",
       "      <td>хартвордшир</td>\n",
       "      <td>короткометражка;криминал;боевик</td>\n",
       "      <td>двое;трое</td>\n",
       "      <td>мадонна (развод);джеки эйнсли</td>\n",
       "      <td>62.0</td>\n",
       "      <td>1995.0</td>\n",
       "      <td>2021.0</td>\n",
       "      <td>9</td>\n",
       "      <td>19680910</td>\n",
       "      <td>Virgo</td>\n",
       "    </tr>\n",
       "  </tbody>\n",
       "</table>\n",
       "<p>2 rows × 21 columns</p>\n",
       "</div>"
      ],
      "text/plain": [
       "   rank            name  favors folders awards  \\\n",
       "0     1  Михаил Ефремов     693    4705  False   \n",
       "1     2        Гай Ричи    5353   39861   True   \n",
       "\n",
       "                              career height  year  day    mounth  ...  \\\n",
       "0      актер;актер: дубляж;сценарист   1.75  1963   10    ноября  ...   \n",
       "1  режиссер;сценарист;продюсер;актер    1.8  1968   10  сентября  ...   \n",
       "\n",
       "         country                           genres             children  \\\n",
       "0  ссср (россия)          комедия;драма;мелодрама  один;один;один;трое   \n",
       "1    хартвордшир  короткометражка;криминал;боевик            двое;трое   \n",
       "\n",
       "                                             spouses total_films  \\\n",
       "0  ася воробьева (развод);евгения добровольская (...       195.0   \n",
       "1                      мадонна (развод);джеки эйнсли        62.0   \n",
       "\n",
       "   career_start  caree_finish  new_mounth      data   zodiac  \n",
       "0        1976.0        2020.0          11  19631110  Scorpio  \n",
       "1        1995.0        2021.0           9  19680910    Virgo  \n",
       "\n",
       "[2 rows x 21 columns]"
      ]
     },
     "execution_count": 382,
     "metadata": {},
     "output_type": "execute_result"
    }
   ],
   "source": [
    "df.head(2)"
   ]
  },
  {
   "cell_type": "code",
   "execution_count": 375,
   "metadata": {},
   "outputs": [
    {
     "data": {
      "text/plain": [
       "<matplotlib.axes._subplots.AxesSubplot at 0x7f354b776630>"
      ]
     },
     "execution_count": 375,
     "metadata": {},
     "output_type": "execute_result"
    },
    {
     "data": {
      "image/png": "[encoded data removed]",
      "text/plain": [
       "<Figure size 432x288 with 1 Axes>"
      ]
     },
     "metadata": {
      "needs_background": "light"
     },
     "output_type": "display_data"
    }
   ],
   "source": [
    "df['zodiac'].value_counts().plot.bar()"
   ]
  },
  {
   "cell_type": "code",
   "execution_count": 414,
   "metadata": {},
   "outputs": [
    {
     "data": {
      "text/plain": [
       "<matplotlib.axes._subplots.AxesSubplot at 0x7f3549dec908>"
      ]
     },
     "execution_count": 414,
     "metadata": {},
     "output_type": "execute_result"
    },
    {
     "data": {
      "image/png": "[encoded data removed]",
      "text/plain": [
       "<Figure size 1008x360 with 1 Axes>"
      ]
     },
     "metadata": {
      "needs_background": "light"
     },
     "output_type": "display_data"
    }
   ],
   "source": [
    "import matplotlib.pyplot as plt\n",
    "fig = plt.figure(figsize= (14,5))\n",
    "df['height'].value_counts().sort_index().plot.bar()"
   ]
  },
  {
   "cell_type": "code",
   "execution_count": 413,
   "metadata": {},
   "outputs": [
    {
     "data": {
      "text/plain": [
       "<matplotlib.axes._subplots.AxesSubplot at 0x7f354a148240>"
      ]
     },
     "execution_count": 413,
     "metadata": {},
     "output_type": "execute_result"
    },
    {
     "data": {
      "image/png": "[encoded data removed]",
      "text/plain": [
       "<Figure size 432x288 with 1 Axes>"
      ]
     },
     "metadata": {
      "needs_background": "light"
     },
     "output_type": "display_data"
    }
   ],
   "source": [
    "import numpy as np\n",
    "df['height'] = df['height'].astype(float)\n",
    "df.groupby(by=['zodiac'], as_index=False)['height'].mean().plot.bar()"
   ]
  },
  {
   "cell_type": "code",
   "execution_count": 415,
   "metadata": {},
   "outputs": [
    {
     "data": {
      "text/plain": [
       "<matplotlib.axes._subplots.AxesSubplot at 0x7f3549cb5978>"
      ]
     },
     "execution_count": 415,
     "metadata": {},
     "output_type": "execute_result"
    },
    {
     "data": {
      "image/png": "[encoded data removed]",
      "text/plain": [
       "<Figure size 432x288 with 1 Axes>"
      ]
     },
     "metadata": {
      "needs_background": "light"
     },
     "output_type": "display_data"
    }
   ],
   "source": [
    "df.groupby(by=['zodiac'], as_index=False)['total_films'].mean().plot.bar()"
   ]
  },
  {
   "cell_type": "code",
   "execution_count": 427,
   "metadata": {},
   "outputs": [
    {
     "data": {
      "text/plain": [
       "<matplotlib.axes._subplots.AxesSubplot at 0x7f3549af8c50>"
      ]
     },
     "execution_count": 427,
     "metadata": {},
     "output_type": "execute_result"
    },
    {
     "data": {
      "image/png": "[encoded data removed]",
      "text/plain": [
       "<Figure size 432x288 with 1 Axes>"
      ]
     },
     "metadata": {
      "needs_background": "light"
     },
     "output_type": "display_data"
    }
   ],
   "source": [
    "df['awards'] = df['awards'].astype(bool).astype(int)\n",
    "df.groupby(by=['zodiac'], as_index=False)['awards'].sum().plot.bar()"
   ]
  },
  {
   "cell_type": "code",
   "execution_count": 433,
   "metadata": {},
   "outputs": [
    {
     "data": {
      "text/plain": [
       "<matplotlib.axes._subplots.AxesSubplot at 0x7f35498d34e0>"
      ]
     },
     "execution_count": 433,
     "metadata": {},
     "output_type": "execute_result"
    },
    {
     "data": {
      "image/png": "[encoded data removed]",
      "text/plain": [
       "<Figure size 432x288 with 1 Axes>"
      ]
     },
     "metadata": {
      "needs_background": "light"
     },
     "output_type": "display_data"
    }
   ],
   "source": [
    "df.groupby(by=['zodiac'], as_index=False)['favors'].mean().plot.bar()"
   ]
  },
  {
   "cell_type": "code",
   "execution_count": 432,
   "metadata": {},
   "outputs": [
    {
     "data": {
      "text/plain": [
       "<matplotlib.axes._subplots.AxesSubplot at 0x7f35499ed860>"
      ]
     },
     "execution_count": 432,
     "metadata": {},
     "output_type": "execute_result"
    },
    {
     "data": {
      "image/png": "[encoded data removed]",
      "text/plain": [
       "<Figure size 432x288 with 1 Axes>"
      ]
     },
     "metadata": {
      "needs_background": "light"
     },
     "output_type": "display_data"
    }
   ],
   "source": [
    "df['folders'] = df['folders'].astype(int)\n",
    "df.groupby(by=['zodiac'], as_index=False)['folders'].mean().plot.bar()"
   ]
  },
  {
   "cell_type": "code",
   "execution_count": null,
   "metadata": {},
   "outputs": [],
   "source": []
  }
 ],
 "metadata": {
  "kernelspec": {
   "display_name": "Python 3",
   "language": "python",
   "name": "python3"
  },
  "language_info": {
   "codemirror_mode": {
    "name": "ipython",
    "version": 3
   },
   "file_extension": ".py",
   "mimetype": "text/x-python",
   "name": "python",
   "nbconvert_exporter": "python",
   "pygments_lexer": "ipython3",
   "version": "3.7.3"
  }
 },
 "nbformat": 4,
 "nbformat_minor": 2
}
